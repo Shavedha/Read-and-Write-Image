{
 "cells": [
  {
   "cell_type": "code",
   "execution_count": 1,
   "id": "265ff9d8",
   "metadata": {},
   "outputs": [],
   "source": [
    "import cv2\n",
    "colorimg=cv2.imread('spup2.jpg',1)\n",
    "cv2.imshow('spup2',colorimg)\n",
    "cv2.waitKey(0)"
   ]
  },
  {
   "cell_type": "code",
   "execution_count": 2,
   "id": "98ce6055",
   "metadata": {},
   "outputs": [
    {
     "data": {
      "text/plain": [
       "\"\\nimport cv2\\ncolorimg = cv2.imread('spup2.jpg',1)\\ns = cv2.imwrite('spup2.jpg',colorimg)\\ncv2.imshow('shavs',colorimg)\\ncv2.waitKey(0)\\n\""
      ]
     },
     "execution_count": 2,
     "metadata": {},
     "output_type": "execute_result"
    }
   ],
   "source": [
    "\n",
    "import cv2\n",
    "colorimg = cv2.imread('spup2.jpg',1)\n",
    "s = cv2.imwrite('spup2.jpg',colorimg)\n",
    "cv2.imshow('shavs',colorimg)\n",
    "cv2.waitKey(0)\n"
   ]
  },
  {
   "cell_type": "code",
   "execution_count": 3,
   "id": "ec4b2207",
   "metadata": {},
   "outputs": [
    {
     "data": {
      "text/plain": [
       "\"\\nimport cv2\\ncolorimg = cv2.imread('spup2.jpg',1)\\nprint(colorimg.shape)\\n\""
      ]
     },
     "execution_count": 3,
     "metadata": {},
     "output_type": "execute_result"
    }
   ],
   "source": [
    "\n",
    "import cv2\n",
    "colorimg = cv2.imread('spup2.jpg',1)\n",
    "print(colorimg.shape)\n"
   ]
  },
  {
   "cell_type": "code",
   "execution_count": 4,
   "id": "eca30a00",
   "metadata": {},
   "outputs": [
    {
     "data": {
      "text/plain": [
       "\"\\nimport random\\nimport cv2\\ncolorimg = cv2.imread('spup2.jpg',1)\\nfor i in range(100):\\n    for j in range(colorimg.shape[1]):\\n        colorimg[i][j] = [random.randint(0,255),random.randint(0,255),random.randint(0,255)]\\ncv2.imshow('spup2.jpg',colorimg)\\ncv2.waitKey(0)\\n\""
      ]
     },
     "execution_count": 4,
     "metadata": {},
     "output_type": "execute_result"
    }
   ],
   "source": [
    "\n",
    "import random\n",
    "import cv2\n",
    "colorimg = cv2.imread('spup2.jpg',1)\n",
    "for i in range(100):\n",
    "    for j in range(colorimg.shape[1]):\n",
    "        colorimg[i][j] = [random.randint(0,255),random.randint(0,255),random.randint(0,255)]\n",
    "cv2.imshow('spup2.jpg',colorimg)\n",
    "cv2.waitKey(0)\n"
   ]
  },
  {
   "cell_type": "code",
   "execution_count": null,
   "id": "f7d950d5",
   "metadata": {},
   "outputs": [],
   "source": [
    "import cv2\n",
    "colorimg = cv2.imread('spup2.jpg',1)\n",
    "tag = colorimg[300:400,300:400]\n",
    "colorimg[50:150,50:150] = tag\n",
    "cv2.imshow(\"shavs\",colorimg)\n",
    "cv2.waitKey(0)"
   ]
  }
 ],
 "metadata": {
  "kernelspec": {
   "display_name": "Python 3 (ipykernel)",
   "language": "python",
   "name": "python3"
  },
  "language_info": {
   "codemirror_mode": {
    "name": "ipython",
    "version": 3
   },
   "file_extension": ".py",
   "mimetype": "text/x-python",
   "name": "python",
   "nbconvert_exporter": "python",
   "pygments_lexer": "ipython3",
   "version": "3.10.9"
  }
 },
 "nbformat": 4,
 "nbformat_minor": 5
}
